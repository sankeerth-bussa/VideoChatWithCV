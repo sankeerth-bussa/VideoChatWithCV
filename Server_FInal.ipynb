{
 "cells": [
  {
   "cell_type": "code",
   "execution_count": 1,
   "id": "f5699092",
   "metadata": {},
   "outputs": [],
   "source": [
    "import socket\n",
    "import cv2\n",
    "import pickle\n",
    "import struct\n",
    "import threading\n",
    "\n",
    "s=socket.socket()\n",
    "s.setsockopt(socket.SOL_SOCKET,socket.SO_REUSEADDR,1)\n",
    "port=2222\n",
    "ip=\"\"\n",
    "s.bind((ip,port))\n",
    "s.listen()"
   ]
  },
  {
   "cell_type": "code",
   "execution_count": 2,
   "id": "117352b2",
   "metadata": {},
   "outputs": [],
   "source": [
    "def receive(csession,addr):\n",
    "    data = b\"\"\n",
    "    payload_size = struct.calcsize(\">L\")\n",
    "    while True:\n",
    "        while len(data) < payload_size:\n",
    "            data += csession.recv(4096)\n",
    "\n",
    "        packed_msg_size = data[:payload_size]\n",
    "        data = data[payload_size:]\n",
    "        msg_size = struct.unpack(\">L\", packed_msg_size)[0]\n",
    "        while len(data) < msg_size:\n",
    "            data += csession.recv(4096)\n",
    "            \n",
    "        frame_data = data[:msg_size]\n",
    "        data = data[msg_size:]\n",
    "        frame=pickle.loads(frame_data, fix_imports=True, encoding=\"bytes\")\n",
    "        frame = cv2.imdecode(frame, cv2.IMREAD_COLOR)\n",
    "        cv2.imshow('ImageWindow',frame)\n",
    "        if cv2.waitKey(1) == 27:\n",
    "            break\n",
    "    cv2.destroyAllWindows()"
   ]
  },
  {
   "cell_type": "code",
   "execution_count": 3,
   "id": "7c157dfd",
   "metadata": {},
   "outputs": [],
   "source": [
    "def send(csession,addr):\n",
    "    connection = csession.makefile('wb')\n",
    "    cam = cv2.VideoCapture('http://192.168.1.4:8080/video')\n",
    "    encode_param = [int(cv2.IMWRITE_JPEG_QUALITY), 90]\n",
    "\n",
    "    while True:\n",
    "        ret, frame = cam.read()\n",
    "        frame=cv2.resize(frame,(900,600))\n",
    "        result, frame = cv2.imencode('.jpg', frame, encode_param)\n",
    "        data = pickle.dumps(frame, 0)\n",
    "        size = len(data)\n",
    "        csession.sendall(struct.pack(\">L\", size) + data)\n",
    "    cam.release()"
   ]
  },
  {
   "cell_type": "code",
   "execution_count": null,
   "id": "c4b7e568",
   "metadata": {},
   "outputs": [
    {
     "name": "stderr",
     "output_type": "stream",
     "text": [
      "Exception in thread Thread-7:\n",
      "Traceback (most recent call last):\n",
      "  File \"C:\\Users\\sanke\\anaconda3\\lib\\threading.py\", line 932, in _bootstrap_inner\n",
      "    self.run()\n",
      "  File \"C:\\Users\\sanke\\anaconda3\\lib\\threading.py\", line 870, in run\n",
      "    self._target(*self._args, **self._kwargs)\n",
      "  File \"<ipython-input-3-d65586c974bd>\", line 12, in send\n",
      "ConnectionResetError: [WinError 10054] An existing connection was forcibly closed by the remote host\n"
     ]
    }
   ],
   "source": [
    "while True:\n",
    "    csession,addr=s.accept()\n",
    "    t1=threading.Thread(target=receive,args=(csession,addr))\n",
    "    t2=threading.Thread(target=send,args=(csession,addr))\n",
    "    t1.start()\n",
    "    t2.start()"
   ]
  },
  {
   "cell_type": "code",
   "execution_count": null,
   "id": "c1a1e361",
   "metadata": {},
   "outputs": [],
   "source": []
  }
 ],
 "metadata": {
  "kernelspec": {
   "display_name": "Python 3",
   "language": "python",
   "name": "python3"
  },
  "language_info": {
   "codemirror_mode": {
    "name": "ipython",
    "version": 3
   },
   "file_extension": ".py",
   "mimetype": "text/x-python",
   "name": "python",
   "nbconvert_exporter": "python",
   "pygments_lexer": "ipython3",
   "version": "3.8.8"
  }
 },
 "nbformat": 4,
 "nbformat_minor": 5
}
