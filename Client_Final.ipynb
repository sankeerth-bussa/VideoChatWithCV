{
 "cells": [
  {
   "cell_type": "code",
   "execution_count": 1,
   "id": "347cf4c2",
   "metadata": {},
   "outputs": [],
   "source": [
    "import socket\n",
    "import cv2\n",
    "import pickle\n",
    "import struct \n",
    "import threading\n",
    "\n",
    "s=socket.socket()\n",
    "serverip=\"4.tcp.ngrok.io\"\n",
    "serverport=13255\n",
    "s.connect((serverip,serverport))"
   ]
  },
  {
   "cell_type": "code",
   "execution_count": 2,
   "id": "73728f5e",
   "metadata": {},
   "outputs": [],
   "source": [
    "def send(s,serverip):\n",
    "    connection = s.makefile('wb')\n",
    "    cam = cv2.VideoCapture(\"http://192.168.1.2:8080/video\")\n",
    "    encode_param = [int(cv2.IMWRITE_JPEG_QUALITY), 90]\n",
    "    while True:\n",
    "        ret, frame = cam.read()\n",
    "        frame=cv2.resize(frame,(900,600))\n",
    "        result, frame = cv2.imencode('.jpg', frame, encode_param)\n",
    "        data = pickle.dumps(frame, 0)\n",
    "        size = len(data)\n",
    "        s.sendall(struct.pack(\">L\", size) + data)\n",
    "    cam.release()"
   ]
  },
  {
   "cell_type": "code",
   "execution_count": 3,
   "id": "9082bf52",
   "metadata": {},
   "outputs": [],
   "source": [
    "def receive(s,serverip):\n",
    "    data = b\"\"\n",
    "    payload_size = struct.calcsize(\">L\")\n",
    "    while True:\n",
    "        while len(data) < payload_size:\n",
    "            data += s.recv(4096)\n",
    "\n",
    "        packed_msg_size = data[:payload_size]\n",
    "        data = data[payload_size:]\n",
    "        msg_size = struct.unpack(\">L\", packed_msg_size)[0]\n",
    "        while len(data) < msg_size:\n",
    "            data += s.recv(4096)\n",
    "            \n",
    "        frame_data = data[:msg_size]\n",
    "        data = data[msg_size:]\n",
    "        frame=pickle.loads(frame_data, fix_imports=True, encoding=\"bytes\")\n",
    "        frame = cv2.imdecode(frame, cv2.IMREAD_COLOR)\n",
    "        cv2.imshow('ImageWindow',frame)\n",
    "        if cv2.waitKey(1) == 27:\n",
    "            break\n",
    "    cv2.destroyAllWindows()"
   ]
  },
  {
   "cell_type": "code",
   "execution_count": 4,
   "id": "4660ebbe",
   "metadata": {},
   "outputs": [],
   "source": [
    "t1=threading.Thread(target=receive,args=(s,serverip))\n",
    "t2=threading.Thread(target=send,args=(s,serverip))\n",
    "t2.start()\n",
    "t1.start()"
   ]
  },
  {
   "cell_type": "code",
   "execution_count": null,
   "id": "4f7e0d8e",
   "metadata": {},
   "outputs": [],
   "source": []
  },
  {
   "cell_type": "code",
   "execution_count": null,
   "id": "f23250a7",
   "metadata": {},
   "outputs": [],
   "source": []
  }
 ],
 "metadata": {
  "kernelspec": {
   "display_name": "Python 3",
   "language": "python",
   "name": "python3"
  },
  "language_info": {
   "codemirror_mode": {
    "name": "ipython",
    "version": 3
   },
   "file_extension": ".py",
   "mimetype": "text/x-python",
   "name": "python",
   "nbconvert_exporter": "python",
   "pygments_lexer": "ipython3",
   "version": "3.8.8"
  }
 },
 "nbformat": 4,
 "nbformat_minor": 5
}
